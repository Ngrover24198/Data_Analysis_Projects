{
  "nbformat": 4,
  "nbformat_minor": 0,
  "metadata": {
    "kernelspec": {
      "display_name": "Python 3",
      "language": "python",
      "name": "python3"
    },
    "language_info": {
      "codemirror_mode": {
        "name": "ipython",
        "version": 3
      },
      "file_extension": ".py",
      "mimetype": "text/x-python",
      "name": "python",
      "nbconvert_exporter": "python",
      "pygments_lexer": "ipython3",
      "version": "3.7.6"
    },
    "colab": {
      "name": "Interest_prediction_banking_notebook.ipynb",
      "provenance": [],
      "collapsed_sections": []
    }
  },
  "cells": [
    {
      "cell_type": "markdown",
      "metadata": {
        "id": "TohSyoJ_xCcw",
        "colab_type": "text"
      },
      "source": [
        "Submission notebook for the JanataHack: Machine Learning for Banking\n",
        "\n",
        "* Public rank :\n",
        "* Private leaderboard rank : "
      ]
    },
    {
      "cell_type": "markdown",
      "metadata": {
        "id": "QPs4TginxWr1",
        "colab_type": "text"
      },
      "source": [
        "Have you ever wondered how lenders use various factors such as credit score, annual income, the loan amount approved, tenure, debt-to-income ratio etc. and select your interest rates? \n",
        "\n",
        "The process, defined as ‘risk-based pricing’, uses a sophisticated algorithm that leverages different determining factors of a loan applicant. Selection of significant factors will help develop a prediction algorithm which can estimate loan interest rates based on clients’ information. On one hand, knowing the factors will help consumers and borrowers to increase their credit worthiness and place themselves in a better position to negotiate for getting a lower interest rate. On the other hand, this will help lending companies to get an immediate fixed interest rate estimation based on clients information. Here, your goal is to use a training dataset to predict the loan rate category (1 / 2 / 3) that will be assigned to each loan in our test set.\n",
        "\n",
        "You can use any combination of the features in the dataset to make your loan rate category predictions. Some features will be easier to use than others."
      ]
    },
    {
      "cell_type": "code",
      "metadata": {
        "id": "mPcSUq69UW3t",
        "colab_type": "code",
        "colab": {}
      },
      "source": [
        "import numpy as np\n",
        "import pandas as pd\n",
        "from sklearn.preprocessing import LabelEncoder\n",
        "from sklearn.metrics import f1_score\n",
        "from sklearn.model_selection import KFold, train_test_split\n",
        "from sklearn.impute import SimpleImputer\n",
        "from lightgbm import LGBMClassifier\n",
        "from xgboost import XGBClassifier"
      ],
      "execution_count": 0,
      "outputs": []
    },
    {
      "cell_type": "code",
      "metadata": {
        "id": "9ZT54Q79UW3x",
        "colab_type": "code",
        "colab": {}
      },
      "source": [
        "Dataset_train=pd.read_csv('/content/train_fNxu4vz.csv')\n",
        "Dataset=pd.read_csv('/content/test_fjtUOL8.csv')\n",
        "\n",
        "Dataset=pd.concat([Dataset_train, Dataset], axis=0, ignore_index=True, sort=False)"
      ],
      "execution_count": 0,
      "outputs": []
    },
    {
      "cell_type": "markdown",
      "metadata": {
        "id": "bqz4v-uF18a_",
        "colab_type": "text"
      },
      "source": [
        "#  Data preprocessing\n",
        "*  converting into appropriate data types\n",
        "*  Log transformation wherever found neccessary\n",
        "*  Fill nans with mean (numeric)\n",
        "*  Fill nans with mode (category) or you can use 'Unknown' label as well\n",
        "*  Label encoding / one hot encoding for category columns"
      ]
    },
    {
      "cell_type": "code",
      "metadata": {
        "id": "fTBFddcgUW30",
        "colab_type": "code",
        "colab": {}
      },
      "source": [
        "## all combined into one cell but one should go column by column to see how \n",
        "Dataset['Loan_Amount_Requested']=Dataset['Loan_Amount_Requested'].str.replace(\",\" ,'')\n",
        "\n",
        "Dataset['Loan_Amount_Requested']=Dataset['Loan_Amount_Requested'].astype(int)\n",
        "\n",
        "Dataset['Loan_Amount_Requested'].describe()\n",
        "\n",
        "Dataset['Loan_Amount_Requested']=np.log(Dataset['Loan_Amount_Requested'])\n",
        "\n",
        "Dataset['Months_Since_Deliquency'].describe()\n",
        "\n",
        "Dataset['Months_Since_Deliquency']=np.log(Dataset['Months_Since_Deliquency'], where = Dataset['Months_Since_Deliquency']!=0)\n",
        "\n",
        "Dataset['Annual_Income'].describe()\n",
        "\n",
        "Dataset['Annual_Income']=np.log(Dataset['Annual_Income'])\n",
        "\n",
        "Dataset['Number_Open_Accounts'].describe()\n",
        "\n",
        "Dataset['Number_Open_Accounts']=np.log(Dataset['Number_Open_Accounts'], where = Dataset['Number_Open_Accounts']!=0)\n",
        "\n",
        "\n",
        "Dataset['Total_Accounts']=np.log(Dataset['Total_Accounts'])\n",
        "\n",
        "Dataset['Home_Owner'].fillna('unknown', inplace=True)\n",
        "\n",
        "Dataset['Length_Employed']=Dataset['Length_Employed'].str.replace('years', '')\n",
        "\n",
        "Dataset['Length_Employed']=Dataset['Length_Employed'].replace('1 year', 1)\n",
        "\n",
        "Dataset['Length_Employed']=Dataset['Length_Employed'].replace('10+ ', 11)\n",
        "\n",
        "Dataset['Length_Employed']=Dataset['Length_Employed'].replace('< 1 year', 0)\n",
        "\n",
        "Dataset['Length_Employed'].fillna(21, inplace=True)\n",
        "\n",
        "Dataset['Length_Employed']=Dataset['Length_Employed'].astype(int)\n",
        "\n",
        "label_encode=LabelEncoder()\n",
        "\n",
        "Dataset['Gender']=label_encode.fit_transform(Dataset['Gender'])\n",
        "\n",
        "Dataset['Purpose_Of_Loan'].value_counts()\n",
        "\n",
        "Dataset['Purpose_Of_Loan']=Dataset['Purpose_Of_Loan'].map({'debt_consolidation':1, 'credit_card':2,\n",
        "                                                           'home_improvement':3, 'other':4,\n",
        "                                                           'major_purchase':5, 'small_business':6,\n",
        "                                                           'car':7, 'medical':8, \n",
        "                                                           'moving':9, 'vacation':10,\n",
        "                                                           'wedding':11, 'house':12,\n",
        "                                                           'renewable_energy':13, 'educational':14})"
      ],
      "execution_count": 0,
      "outputs": []
    },
    {
      "cell_type": "code",
      "metadata": {
        "id": "JtqI4iadUW32",
        "colab_type": "code",
        "colab": {}
      },
      "source": [
        "Dataset=pd.get_dummies(Dataset, columns=['Home_Owner', 'Income_Verified'], drop_first=True)"
      ],
      "execution_count": 0,
      "outputs": []
    },
    {
      "cell_type": "code",
      "metadata": {
        "id": "7sJYd22aUW35",
        "colab_type": "code",
        "colab": {
          "base_uri": "https://localhost:8080/",
          "height": 35
        },
        "outputId": "44d49568-bb96-4935-9216-187dce60986f"
      },
      "source": [
        "Dataset.isnull().sum()\n",
        "Dataset.shape"
      ],
      "execution_count": 44,
      "outputs": [
        {
          "output_type": "execute_result",
          "data": {
            "text/plain": [
              "(273850, 19)"
            ]
          },
          "metadata": {
            "tags": []
          },
          "execution_count": 44
        }
      ]
    },
    {
      "cell_type": "markdown",
      "metadata": {
        "id": "R9QYhND_04iC",
        "colab_type": "text"
      },
      "source": [
        "# Creating X and Y \n",
        "\n",
        "*  We have different datasets for different features combo . We chose Dataset_try1 because it gave the best f1 score  \n",
        "\n",
        " Lets try adding features to dataset .Following are the features that we have tried.\n",
        "\n",
        "* Open account ratio\n",
        "*  Closed account ratio \n"
      ]
    },
    {
      "cell_type": "code",
      "metadata": {
        "id": "T88FyE-pUW38",
        "colab_type": "code",
        "colab": {
          "base_uri": "https://localhost:8080/",
          "height": 231
        },
        "outputId": "6f762899-c5a2-4d92-f7ed-2fcd99a314ea"
      },
      "source": [
        "Dataset['Account_ratio']=Dataset['Number_Open_Accounts']/Dataset['Total_Accounts']\n",
        "Dataset.head(5)"
      ],
      "execution_count": 45,
      "outputs": [
        {
          "output_type": "execute_result",
          "data": {
            "text/html": [
              "<div>\n",
              "<style scoped>\n",
              "    .dataframe tbody tr th:only-of-type {\n",
              "        vertical-align: middle;\n",
              "    }\n",
              "\n",
              "    .dataframe tbody tr th {\n",
              "        vertical-align: top;\n",
              "    }\n",
              "\n",
              "    .dataframe thead th {\n",
              "        text-align: right;\n",
              "    }\n",
              "</style>\n",
              "<table border=\"1\" class=\"dataframe\">\n",
              "  <thead>\n",
              "    <tr style=\"text-align: right;\">\n",
              "      <th></th>\n",
              "      <th>Loan_ID</th>\n",
              "      <th>Loan_Amount_Requested</th>\n",
              "      <th>Length_Employed</th>\n",
              "      <th>Annual_Income</th>\n",
              "      <th>Purpose_Of_Loan</th>\n",
              "      <th>Debt_To_Income</th>\n",
              "      <th>Inquiries_Last_6Mo</th>\n",
              "      <th>Months_Since_Deliquency</th>\n",
              "      <th>Number_Open_Accounts</th>\n",
              "      <th>Total_Accounts</th>\n",
              "      <th>Gender</th>\n",
              "      <th>Interest_Rate</th>\n",
              "      <th>Home_Owner_None</th>\n",
              "      <th>Home_Owner_Other</th>\n",
              "      <th>Home_Owner_Own</th>\n",
              "      <th>Home_Owner_Rent</th>\n",
              "      <th>Home_Owner_unknown</th>\n",
              "      <th>Income_Verified_VERIFIED - income source</th>\n",
              "      <th>Income_Verified_not verified</th>\n",
              "      <th>Account_ratio</th>\n",
              "    </tr>\n",
              "  </thead>\n",
              "  <tbody>\n",
              "    <tr>\n",
              "      <th>0</th>\n",
              "      <td>10000001</td>\n",
              "      <td>8.853665</td>\n",
              "      <td>0</td>\n",
              "      <td>11.127263</td>\n",
              "      <td>7</td>\n",
              "      <td>18.37</td>\n",
              "      <td>0</td>\n",
              "      <td>NaN</td>\n",
              "      <td>2.197225</td>\n",
              "      <td>2.639057</td>\n",
              "      <td>0</td>\n",
              "      <td>1.0</td>\n",
              "      <td>0</td>\n",
              "      <td>0</td>\n",
              "      <td>0</td>\n",
              "      <td>1</td>\n",
              "      <td>0</td>\n",
              "      <td>0</td>\n",
              "      <td>1</td>\n",
              "      <td>0.832579</td>\n",
              "    </tr>\n",
              "    <tr>\n",
              "      <th>1</th>\n",
              "      <td>10000002</td>\n",
              "      <td>10.308953</td>\n",
              "      <td>4</td>\n",
              "      <td>NaN</td>\n",
              "      <td>1</td>\n",
              "      <td>14.93</td>\n",
              "      <td>0</td>\n",
              "      <td>2.833213</td>\n",
              "      <td>2.484907</td>\n",
              "      <td>3.178054</td>\n",
              "      <td>0</td>\n",
              "      <td>3.0</td>\n",
              "      <td>0</td>\n",
              "      <td>0</td>\n",
              "      <td>0</td>\n",
              "      <td>0</td>\n",
              "      <td>0</td>\n",
              "      <td>0</td>\n",
              "      <td>0</td>\n",
              "      <td>0.781896</td>\n",
              "    </tr>\n",
              "    <tr>\n",
              "      <th>2</th>\n",
              "      <td>10000003</td>\n",
              "      <td>10.115570</td>\n",
              "      <td>7</td>\n",
              "      <td>11.232767</td>\n",
              "      <td>1</td>\n",
              "      <td>15.88</td>\n",
              "      <td>0</td>\n",
              "      <td>NaN</td>\n",
              "      <td>2.484907</td>\n",
              "      <td>2.772589</td>\n",
              "      <td>1</td>\n",
              "      <td>3.0</td>\n",
              "      <td>0</td>\n",
              "      <td>0</td>\n",
              "      <td>0</td>\n",
              "      <td>0</td>\n",
              "      <td>0</td>\n",
              "      <td>1</td>\n",
              "      <td>0</td>\n",
              "      <td>0.896241</td>\n",
              "    </tr>\n",
              "    <tr>\n",
              "      <th>3</th>\n",
              "      <td>10000004</td>\n",
              "      <td>9.680344</td>\n",
              "      <td>0</td>\n",
              "      <td>10.935960</td>\n",
              "      <td>1</td>\n",
              "      <td>14.34</td>\n",
              "      <td>3</td>\n",
              "      <td>NaN</td>\n",
              "      <td>2.772589</td>\n",
              "      <td>3.091042</td>\n",
              "      <td>1</td>\n",
              "      <td>3.0</td>\n",
              "      <td>0</td>\n",
              "      <td>0</td>\n",
              "      <td>0</td>\n",
              "      <td>0</td>\n",
              "      <td>1</td>\n",
              "      <td>1</td>\n",
              "      <td>0</td>\n",
              "      <td>0.896975</td>\n",
              "    </tr>\n",
              "    <tr>\n",
              "      <th>4</th>\n",
              "      <td>10000005</td>\n",
              "      <td>9.740969</td>\n",
              "      <td>8</td>\n",
              "      <td>11.472103</td>\n",
              "      <td>1</td>\n",
              "      <td>22.17</td>\n",
              "      <td>1</td>\n",
              "      <td>NaN</td>\n",
              "      <td>2.944439</td>\n",
              "      <td>3.401197</td>\n",
              "      <td>0</td>\n",
              "      <td>1.0</td>\n",
              "      <td>0</td>\n",
              "      <td>0</td>\n",
              "      <td>1</td>\n",
              "      <td>0</td>\n",
              "      <td>0</td>\n",
              "      <td>1</td>\n",
              "      <td>0</td>\n",
              "      <td>0.865707</td>\n",
              "    </tr>\n",
              "  </tbody>\n",
              "</table>\n",
              "</div>"
            ],
            "text/plain": [
              "    Loan_ID  Loan_Amount_Requested  ...  Income_Verified_not verified  Account_ratio\n",
              "0  10000001               8.853665  ...                             1       0.832579\n",
              "1  10000002              10.308953  ...                             0       0.781896\n",
              "2  10000003              10.115570  ...                             0       0.896241\n",
              "3  10000004               9.680344  ...                             0       0.896975\n",
              "4  10000005               9.740969  ...                             0       0.865707\n",
              "\n",
              "[5 rows x 20 columns]"
            ]
          },
          "metadata": {
            "tags": []
          },
          "execution_count": 45
        }
      ]
    },
    {
      "cell_type": "code",
      "metadata": {
        "id": "UozPf-3fW0ve",
        "colab_type": "code",
        "colab": {
          "base_uri": "https://localhost:8080/",
          "height": 231
        },
        "outputId": "34d062fe-bff5-4545-f5ce-7036dd4f4e12"
      },
      "source": [
        "# addition of feature closed account ratio\n",
        "## closed account ratio\n",
        "Dataset_try1 = Dataset.copy()\n",
        "Dataset_try1['closed_account_ratio'] = 1 - Dataset_try1['Account_ratio']\n",
        "Dataset_try1.head(5)"
      ],
      "execution_count": 46,
      "outputs": [
        {
          "output_type": "execute_result",
          "data": {
            "text/html": [
              "<div>\n",
              "<style scoped>\n",
              "    .dataframe tbody tr th:only-of-type {\n",
              "        vertical-align: middle;\n",
              "    }\n",
              "\n",
              "    .dataframe tbody tr th {\n",
              "        vertical-align: top;\n",
              "    }\n",
              "\n",
              "    .dataframe thead th {\n",
              "        text-align: right;\n",
              "    }\n",
              "</style>\n",
              "<table border=\"1\" class=\"dataframe\">\n",
              "  <thead>\n",
              "    <tr style=\"text-align: right;\">\n",
              "      <th></th>\n",
              "      <th>Loan_ID</th>\n",
              "      <th>Loan_Amount_Requested</th>\n",
              "      <th>Length_Employed</th>\n",
              "      <th>Annual_Income</th>\n",
              "      <th>Purpose_Of_Loan</th>\n",
              "      <th>Debt_To_Income</th>\n",
              "      <th>Inquiries_Last_6Mo</th>\n",
              "      <th>Months_Since_Deliquency</th>\n",
              "      <th>Number_Open_Accounts</th>\n",
              "      <th>Total_Accounts</th>\n",
              "      <th>Gender</th>\n",
              "      <th>Interest_Rate</th>\n",
              "      <th>Home_Owner_None</th>\n",
              "      <th>Home_Owner_Other</th>\n",
              "      <th>Home_Owner_Own</th>\n",
              "      <th>Home_Owner_Rent</th>\n",
              "      <th>Home_Owner_unknown</th>\n",
              "      <th>Income_Verified_VERIFIED - income source</th>\n",
              "      <th>Income_Verified_not verified</th>\n",
              "      <th>Account_ratio</th>\n",
              "      <th>closed_account_ratio</th>\n",
              "    </tr>\n",
              "  </thead>\n",
              "  <tbody>\n",
              "    <tr>\n",
              "      <th>0</th>\n",
              "      <td>10000001</td>\n",
              "      <td>8.853665</td>\n",
              "      <td>0</td>\n",
              "      <td>11.127263</td>\n",
              "      <td>7</td>\n",
              "      <td>18.37</td>\n",
              "      <td>0</td>\n",
              "      <td>NaN</td>\n",
              "      <td>2.197225</td>\n",
              "      <td>2.639057</td>\n",
              "      <td>0</td>\n",
              "      <td>1.0</td>\n",
              "      <td>0</td>\n",
              "      <td>0</td>\n",
              "      <td>0</td>\n",
              "      <td>1</td>\n",
              "      <td>0</td>\n",
              "      <td>0</td>\n",
              "      <td>1</td>\n",
              "      <td>0.832579</td>\n",
              "      <td>0.167421</td>\n",
              "    </tr>\n",
              "    <tr>\n",
              "      <th>1</th>\n",
              "      <td>10000002</td>\n",
              "      <td>10.308953</td>\n",
              "      <td>4</td>\n",
              "      <td>NaN</td>\n",
              "      <td>1</td>\n",
              "      <td>14.93</td>\n",
              "      <td>0</td>\n",
              "      <td>2.833213</td>\n",
              "      <td>2.484907</td>\n",
              "      <td>3.178054</td>\n",
              "      <td>0</td>\n",
              "      <td>3.0</td>\n",
              "      <td>0</td>\n",
              "      <td>0</td>\n",
              "      <td>0</td>\n",
              "      <td>0</td>\n",
              "      <td>0</td>\n",
              "      <td>0</td>\n",
              "      <td>0</td>\n",
              "      <td>0.781896</td>\n",
              "      <td>0.218104</td>\n",
              "    </tr>\n",
              "    <tr>\n",
              "      <th>2</th>\n",
              "      <td>10000003</td>\n",
              "      <td>10.115570</td>\n",
              "      <td>7</td>\n",
              "      <td>11.232767</td>\n",
              "      <td>1</td>\n",
              "      <td>15.88</td>\n",
              "      <td>0</td>\n",
              "      <td>NaN</td>\n",
              "      <td>2.484907</td>\n",
              "      <td>2.772589</td>\n",
              "      <td>1</td>\n",
              "      <td>3.0</td>\n",
              "      <td>0</td>\n",
              "      <td>0</td>\n",
              "      <td>0</td>\n",
              "      <td>0</td>\n",
              "      <td>0</td>\n",
              "      <td>1</td>\n",
              "      <td>0</td>\n",
              "      <td>0.896241</td>\n",
              "      <td>0.103759</td>\n",
              "    </tr>\n",
              "    <tr>\n",
              "      <th>3</th>\n",
              "      <td>10000004</td>\n",
              "      <td>9.680344</td>\n",
              "      <td>0</td>\n",
              "      <td>10.935960</td>\n",
              "      <td>1</td>\n",
              "      <td>14.34</td>\n",
              "      <td>3</td>\n",
              "      <td>NaN</td>\n",
              "      <td>2.772589</td>\n",
              "      <td>3.091042</td>\n",
              "      <td>1</td>\n",
              "      <td>3.0</td>\n",
              "      <td>0</td>\n",
              "      <td>0</td>\n",
              "      <td>0</td>\n",
              "      <td>0</td>\n",
              "      <td>1</td>\n",
              "      <td>1</td>\n",
              "      <td>0</td>\n",
              "      <td>0.896975</td>\n",
              "      <td>0.103025</td>\n",
              "    </tr>\n",
              "    <tr>\n",
              "      <th>4</th>\n",
              "      <td>10000005</td>\n",
              "      <td>9.740969</td>\n",
              "      <td>8</td>\n",
              "      <td>11.472103</td>\n",
              "      <td>1</td>\n",
              "      <td>22.17</td>\n",
              "      <td>1</td>\n",
              "      <td>NaN</td>\n",
              "      <td>2.944439</td>\n",
              "      <td>3.401197</td>\n",
              "      <td>0</td>\n",
              "      <td>1.0</td>\n",
              "      <td>0</td>\n",
              "      <td>0</td>\n",
              "      <td>1</td>\n",
              "      <td>0</td>\n",
              "      <td>0</td>\n",
              "      <td>1</td>\n",
              "      <td>0</td>\n",
              "      <td>0.865707</td>\n",
              "      <td>0.134293</td>\n",
              "    </tr>\n",
              "  </tbody>\n",
              "</table>\n",
              "</div>"
            ],
            "text/plain": [
              "    Loan_ID  Loan_Amount_Requested  ...  Account_ratio  closed_account_ratio\n",
              "0  10000001               8.853665  ...       0.832579              0.167421\n",
              "1  10000002              10.308953  ...       0.781896              0.218104\n",
              "2  10000003              10.115570  ...       0.896241              0.103759\n",
              "3  10000004               9.680344  ...       0.896975              0.103025\n",
              "4  10000005               9.740969  ...       0.865707              0.134293\n",
              "\n",
              "[5 rows x 21 columns]"
            ]
          },
          "metadata": {
            "tags": []
          },
          "execution_count": 46
        }
      ]
    },
    {
      "cell_type": "code",
      "metadata": {
        "id": "uxYkgs7XXWqz",
        "colab_type": "code",
        "colab": {}
      },
      "source": [
        "# Using Dataset_try1 with one more feature\n",
        "Dataset_test=Dataset_try1[Dataset_try1['Interest_Rate'].isnull()==True]\n",
        "Dataset=Dataset_try1[Dataset_try1['Interest_Rate'].isnull()!=True]"
      ],
      "execution_count": 0,
      "outputs": []
    },
    {
      "cell_type": "code",
      "metadata": {
        "id": "LCSnpCDjUW3_",
        "colab_type": "code",
        "colab": {}
      },
      "source": [
        "# Dataset_test=Dataset[Dataset['Interest_Rate'].isnull()==True]\n",
        "# Dataset=Dataset[Dataset['Interest_Rate'].isnull()!=True]"
      ],
      "execution_count": 0,
      "outputs": []
    },
    {
      "cell_type": "code",
      "metadata": {
        "id": "0GlvUIIMUW4B",
        "colab_type": "code",
        "colab": {}
      },
      "source": [
        "X=Dataset.drop(['Interest_Rate', 'Loan_ID'], axis=1)\n",
        "Y=Dataset['Interest_Rate']\n",
        "\n",
        "\n",
        "X=X.iloc[:, :].values\n",
        "Y=Y.iloc[:].values\n",
        "\n",
        "imputer=SimpleImputer(missing_values=np.nan, strategy='mean')\n",
        "\n",
        "X[:, 2:3]=imputer.fit_transform(X[:, 2:3])\n",
        "\n",
        "X[:, 6:7]=imputer.fit_transform(X[:, 6:7])\n"
      ],
      "execution_count": 0,
      "outputs": []
    },
    {
      "cell_type": "code",
      "metadata": {
        "id": "hzqK5ISfUW4E",
        "colab_type": "code",
        "colab": {}
      },
      "source": [
        "#rc=RandomForestClassifier(n_estimators=500, criterion='gini', max_depth=10, n_jobs=-1, random_state=100)\n",
        "#rc.fit(X_train,Y_train)\n",
        "#Y_predict=rc.predict(X_test)\n",
        "\n",
        "#print(f1_score(Y_test,Y_predict, average='weighted'))\n"
      ],
      "execution_count": 0,
      "outputs": []
    },
    {
      "cell_type": "code",
      "metadata": {
        "id": "GJ6lXCQ2WKlm",
        "colab_type": "code",
        "colab": {
          "base_uri": "https://localhost:8080/",
          "height": 372
        },
        "outputId": "b7672756-cc2f-40bb-d461-b7544a79834d"
      },
      "source": [
        "pd.DataFrame(X).isnull().sum()"
      ],
      "execution_count": 51,
      "outputs": [
        {
          "output_type": "execute_result",
          "data": {
            "text/plain": [
              "0     0\n",
              "1     0\n",
              "2     0\n",
              "3     0\n",
              "4     0\n",
              "5     0\n",
              "6     0\n",
              "7     0\n",
              "8     0\n",
              "9     0\n",
              "10    0\n",
              "11    0\n",
              "12    0\n",
              "13    0\n",
              "14    0\n",
              "15    0\n",
              "16    0\n",
              "17    0\n",
              "18    0\n",
              "dtype: int64"
            ]
          },
          "metadata": {
            "tags": []
          },
          "execution_count": 51
        }
      ]
    },
    {
      "cell_type": "code",
      "metadata": {
        "id": "4u65yYTrUW4G",
        "colab_type": "code",
        "colab": {}
      },
      "source": [
        "\n",
        "\n",
        "# X_train,X_test,Y_train,Y_test=train_test_split(X,Y,test_size=0.1,random_state=0)\n",
        "\n",
        "# lg=LGBMClassifier(boosting_type='gbdt', max_depth=14, learning_rate=0.14, objective='multiclass', reg_alpha=0,\n",
        "#                   reg_lambda=1, n_jobs=-1, random_state=100, n_estimators=600)\n",
        "\n",
        "# lg.fit(X_train,Y_train)\n",
        "# Y_predict=lg.predict(X_test)\n",
        "\n",
        "# print(f1_score(Y_test,Y_predict, average='weighted'))\n",
        "\n"
      ],
      "execution_count": 0,
      "outputs": []
    },
    {
      "cell_type": "code",
      "metadata": {
        "id": "MkPzCGqoV0yQ",
        "colab_type": "code",
        "colab": {}
      },
      "source": [
        "lg=LGBMClassifier(boosting_type='gbdt', max_depth=14, learning_rate=0.14, objective='multiclass', reg_alpha=0,\n",
        "                  reg_lambda=1, n_jobs=-1, random_state=100, n_estimators=600)"
      ],
      "execution_count": 0,
      "outputs": []
    },
    {
      "cell_type": "code",
      "metadata": {
        "id": "gvL0iCcZUW4I",
        "colab_type": "code",
        "colab": {
          "base_uri": "https://localhost:8080/",
          "height": 372
        },
        "outputId": "98eb7417-082a-43b4-8457-d523463bd90b"
      },
      "source": [
        "X_main_test=Dataset_test.drop(['Interest_Rate', 'Loan_ID'], axis=1)\n",
        "\n",
        "X_main_test=X_main_test.iloc[:, :].values\n",
        "\n",
        "X_main_test[:, 2:3]=imputer.fit_transform(X_main_test[:, 2:3])\n",
        "\n",
        "X_main_test[:, 6:7]=imputer.fit_transform(X_main_test[:, 6:7])\n",
        "\n",
        "pd.DataFrame(X_main_test).isnull().sum()\n"
      ],
      "execution_count": 54,
      "outputs": [
        {
          "output_type": "execute_result",
          "data": {
            "text/plain": [
              "0     0\n",
              "1     0\n",
              "2     0\n",
              "3     0\n",
              "4     0\n",
              "5     0\n",
              "6     0\n",
              "7     0\n",
              "8     0\n",
              "9     0\n",
              "10    0\n",
              "11    0\n",
              "12    0\n",
              "13    0\n",
              "14    0\n",
              "15    0\n",
              "16    0\n",
              "17    0\n",
              "18    0\n",
              "dtype: int64"
            ]
          },
          "metadata": {
            "tags": []
          },
          "execution_count": 54
        }
      ]
    },
    {
      "cell_type": "code",
      "metadata": {
        "id": "kIA-UMUJUW4L",
        "colab_type": "code",
        "colab": {}
      },
      "source": [
        "# Y_test_predict=lg.predict(X_main_test)\n",
        "\n",
        "# sample_submission=pd.read_csv('C:/Users/UF145GV/Documents/DL/testing/Bank Statement/sample_submission_HSqiq1Q.csv')\n",
        "# sample_submission['Interest_Rate']=Y_test_predict\n",
        "\n",
        "# sample_submission.to_csv('C:/Users/UF145GV/Documents/DL/testing/Bank Statement/main_test.csv', index=False)"
      ],
      "execution_count": 0,
      "outputs": []
    },
    {
      "cell_type": "markdown",
      "metadata": {
        "id": "pTMbVnex0tsh",
        "colab_type": "text"
      },
      "source": [
        "# Cross validation and base score comparisons\n",
        "* 10 kfold with shuffle \n",
        "* each fold creates a prediction which is stored in results[]\n",
        "* the results are converted into a dataframe which is used get our final prediction"
      ]
    },
    {
      "cell_type": "code",
      "metadata": {
        "id": "tV7xAt0X0gWC",
        "colab_type": "code",
        "colab": {}
      },
      "source": [
        ""
      ],
      "execution_count": 0,
      "outputs": []
    },
    {
      "cell_type": "code",
      "metadata": {
        "id": "_Lf-wKaOUW4O",
        "colab_type": "code",
        "colab": {
          "base_uri": "https://localhost:8080/",
          "height": 659
        },
        "outputId": "fc753222-feb7-4001-e190-5406843e2001"
      },
      "source": [
        "X=pd.DataFrame(X)\n",
        "Y=pd.DataFrame(Y)\n",
        "X_main_test=pd.DataFrame(X_main_test)\n",
        "\n",
        "kf=KFold(n_splits=10, random_state=100, shuffle=True)\n",
        "\n",
        "y_test_predict=0\n",
        "f1_score1 = 0\n",
        "j=1\n",
        "result={}\n",
        "for i, (train_index, test_index) in enumerate(kf.split(Dataset)):\n",
        "    \n",
        "   Y_train, Y_valid = Y.iloc[train_index], Y.iloc[test_index]\n",
        "   X_train, X_valid = X.iloc[train_index,:], X.iloc[test_index,:]\n",
        "   \n",
        "   print( \"\\nFold \", j)\n",
        "    \n",
        "   model=lg.fit(X_train,Y_train)\n",
        "   pred = model.predict(X_valid)\n",
        "   \n",
        "   print(f1_score(Y_valid,pred, average='weighted'))\n",
        "   f1_score1+=f1_score(Y_valid,pred, average='weighted')\n",
        "    \n",
        "   y_test_predict+=model.predict(X_main_test)  \n",
        "   result[j]=model.predict(X_main_test)\n",
        "   j+=1\n",
        "   \n",
        "    \n",
        "results=y_test_predict/10   \n",
        "results=np.round(results, decimals=0)\n",
        "print(f1_score1/10)\n",
        "\n",
        "d = pd.DataFrame()\n",
        "for i in range(1, 11):\n",
        "    d = pd.concat([d,pd.DataFrame(result[i])],axis=1)\n",
        "d.columns=['1','2','3','4','5','6','7','8','9','10']\n",
        "\n"
      ],
      "execution_count": 56,
      "outputs": [
        {
          "output_type": "stream",
          "text": [
            "\n",
            "Fold  1\n"
          ],
          "name": "stdout"
        },
        {
          "output_type": "stream",
          "text": [
            "/usr/local/lib/python3.6/dist-packages/sklearn/preprocessing/_label.py:235: DataConversionWarning: A column-vector y was passed when a 1d array was expected. Please change the shape of y to (n_samples, ), for example using ravel().\n",
            "  y = column_or_1d(y, warn=True)\n",
            "/usr/local/lib/python3.6/dist-packages/sklearn/preprocessing/_label.py:268: DataConversionWarning: A column-vector y was passed when a 1d array was expected. Please change the shape of y to (n_samples, ), for example using ravel().\n",
            "  y = column_or_1d(y, warn=True)\n"
          ],
          "name": "stderr"
        },
        {
          "output_type": "stream",
          "text": [
            "0.5304216741210254\n",
            "\n",
            "Fold  2\n",
            "0.531655500605383\n",
            "\n",
            "Fold  3\n",
            "0.536413350122969\n",
            "\n",
            "Fold  4\n",
            "0.5404335947392582\n",
            "\n",
            "Fold  5\n",
            "0.5360273595521782\n",
            "\n",
            "Fold  6\n",
            "0.5383911660107997\n",
            "\n",
            "Fold  7\n",
            "0.5311902481251548\n",
            "\n",
            "Fold  8\n",
            "0.5306327030861933\n",
            "\n",
            "Fold  9\n",
            "0.5397697189931273\n",
            "\n",
            "Fold  10\n",
            "0.5224263766786057\n",
            "0.5337361692034694\n"
          ],
          "name": "stdout"
        }
      ]
    },
    {
      "cell_type": "markdown",
      "metadata": {
        "id": "Z_PZQpH80nWZ",
        "colab_type": "text"
      },
      "source": [
        "# Submission strategy\n",
        "* Take mode from all the folds used for prediction"
      ]
    },
    {
      "cell_type": "code",
      "metadata": {
        "id": "rRuOe72OUW4Q",
        "colab_type": "code",
        "colab": {}
      },
      "source": [
        "re = d.mode(axis=1)[0]\n",
        "sample_submission=pd.read_csv('/content/sample_submission_HSqiq1Q.csv')\n",
        "sample_submission['Interest_Rate']=re\n",
        "\n",
        "sample_submission.to_csv('/content/sample_submission_highest_score_check.csv', index=False)"
      ],
      "execution_count": 0,
      "outputs": []
    },
    {
      "cell_type": "markdown",
      "metadata": {
        "id": "iOaLuJO8hZPJ",
        "colab_type": "text"
      },
      "source": [
        "Execute till above to get the final score"
      ]
    },
    {
      "cell_type": "markdown",
      "metadata": {
        "id": "Z7Lk9rlNzoT3",
        "colab_type": "text"
      },
      "source": [
        "# Feature importances"
      ]
    },
    {
      "cell_type": "markdown",
      "metadata": {
        "id": "b6U-nyTsmRrS",
        "colab_type": "text"
      },
      "source": [
        "Plotting feature importances plot . This is the plot that was used to create extra features."
      ]
    },
    {
      "cell_type": "code",
      "metadata": {
        "id": "kzZ797U3ncX7",
        "colab_type": "code",
        "outputId": "467508e2-d77c-4b96-9719-fd1847904131",
        "colab": {
          "base_uri": "https://localhost:8080/",
          "height": 52
        }
      },
      "source": [
        "lg.feature_importances_"
      ],
      "execution_count": 75,
      "outputs": [
        {
          "output_type": "execute_result",
          "data": {
            "text/plain": [
              "array([8614, 3155, 7464, 2693, 8323, 1845, 4451, 2784, 4719,  590,    0,\n",
              "         23,  271,  633,  372,  617,  644, 4938, 1864])"
            ]
          },
          "metadata": {
            "tags": []
          },
          "execution_count": 75
        }
      ]
    },
    {
      "cell_type": "code",
      "metadata": {
        "id": "ZjdduYW2odQC",
        "colab_type": "code",
        "outputId": "9826c0f6-a9f5-441d-db1b-1b5670b62730",
        "colab": {
          "base_uri": "https://localhost:8080/",
          "height": 673
        }
      },
      "source": [
        "\n",
        "import matplotlib.pyplot as plt\n",
        "import seaborn as sns\n",
        "import warnings\n",
        "warnings.simplefilter(action='ignore', category=FutureWarning)\n",
        "Dataset_plot = Dataset.drop(['Loan_ID','Interest_Rate'],axis = 1)\n",
        "\n",
        "# sorted(zip(clf.feature_importances_, X.columns), reverse=True)\n",
        "feature_imp = pd.DataFrame(sorted(zip(lg.feature_importances_,Dataset_plot.columns)), columns=['Value','Feature'])\n",
        "\n",
        "plt.figure(figsize=(20, 10))\n",
        "sns.barplot(x=\"Value\", y=\"Feature\", data=feature_imp.sort_values(by=\"Value\", ascending=False))\n",
        "plt.title('LightGBM Features (avg over folds)')\n",
        "plt.tight_layout()\n",
        "plt.show()\n",
        "plt.savefig('lgbm_importances-01.png')"
      ],
      "execution_count": 78,
      "outputs": [
        {
          "output_type": "display_data",
          "data": {
            "image/png": "[encoded data removed]",
            "text/plain": [
              "<Figure size 1440x720 with 1 Axes>"
            ]
          },
          "metadata": {
            "tags": [],
            "needs_background": "light"
          }
        },
        {
          "output_type": "display_data",
          "data": {
            "text/plain": [
              "<Figure size 432x288 with 0 Axes>"
            ]
          },
          "metadata": {
            "tags": []
          }
        }
      ]
    }
  ]
}