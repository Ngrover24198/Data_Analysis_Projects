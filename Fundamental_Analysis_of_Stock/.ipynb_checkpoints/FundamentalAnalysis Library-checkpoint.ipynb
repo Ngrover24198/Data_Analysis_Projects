{
 "cells": [
  {
   "cell_type": "code",
   "execution_count": 12,
   "metadata": {},
   "outputs": [],
   "source": [
    "import nsetools"
   ]
  },
  {
   "cell_type": "code",
   "execution_count": 14,
   "metadata": {},
   "outputs": [],
   "source": [
    "import yfinance as yf"
   ]
  },
  {
   "cell_type": "code",
   "execution_count": 6,
   "metadata": {},
   "outputs": [],
   "source": [
    "nse = nsetools.Nse()"
   ]
  },
  {
   "cell_type": "code",
   "execution_count": 7,
   "metadata": {},
   "outputs": [],
   "source": [
    "tata_motors = nse.get_quote(\"TATAMOTORS\")"
   ]
  },
  {
   "cell_type": "code",
   "execution_count": 10,
   "metadata": {},
   "outputs": [],
   "source": [
    "from pprint import pprint"
   ]
  },
  {
   "cell_type": "code",
   "execution_count": 11,
   "metadata": {},
   "outputs": [
    {
     "name": "stdout",
     "output_type": "stream",
     "text": [
      "{'adhocMargin': 9.04,\n",
      " 'applicableMargin': 40.0,\n",
      " 'averagePrice': 109.04,\n",
      " 'basePrice': 111.4,\n",
      " 'bcEndDate': '09-AUG-16',\n",
      " 'bcStartDate': '20-JUL-16',\n",
      " 'buyPrice1': 106.15,\n",
      " 'buyPrice2': None,\n",
      " 'buyPrice3': None,\n",
      " 'buyPrice4': None,\n",
      " 'buyPrice5': None,\n",
      " 'buyQuantity1': 3.0,\n",
      " 'buyQuantity2': None,\n",
      " 'buyQuantity3': None,\n",
      " 'buyQuantity4': None,\n",
      " 'buyQuantity5': None,\n",
      " 'change': '-5.30',\n",
      " 'closePrice': 106.15,\n",
      " 'cm_adj_high_dt': '15-JAN-20',\n",
      " 'cm_adj_low_dt': '24-MAR-20',\n",
      " 'cm_ffm': 19958.48,\n",
      " 'companyName': 'Tata Motors Limited',\n",
      " 'css_status_desc': 'Listed',\n",
      " 'dayHigh': 111.15,\n",
      " 'dayLow': 105.0,\n",
      " 'deliveryQuantity': 10329025.0,\n",
      " 'deliveryToTradedQuantity': 18.61,\n",
      " 'exDate': '18-JUL-16',\n",
      " 'extremeLossMargin': 3.5,\n",
      " 'faceValue': 2.0,\n",
      " 'high52': 201.7,\n",
      " 'indexVar': None,\n",
      " 'isExDateFlag': False,\n",
      " 'isinCode': 'INE155A01022',\n",
      " 'lastPrice': 106.1,\n",
      " 'low52': 63.5,\n",
      " 'marketType': 'N',\n",
      " 'ndEndDate': None,\n",
      " 'ndStartDate': None,\n",
      " 'open': 109.9,\n",
      " 'pChange': '-4.76',\n",
      " 'previousClose': 111.4,\n",
      " 'priceBand': 'No Band',\n",
      " 'pricebandlower': 100.3,\n",
      " 'pricebandupper': 122.5,\n",
      " 'purpose': 'DIVIDEND - RE 0.20/- PER SHARE',\n",
      " 'quantityTraded': 55488921.0,\n",
      " 'recordDate': None,\n",
      " 'secDate': '11-Jun-2020 00:00:00',\n",
      " 'securityVar': 27.46,\n",
      " 'sellPrice1': None,\n",
      " 'sellPrice2': None,\n",
      " 'sellPrice3': None,\n",
      " 'sellPrice4': None,\n",
      " 'sellPrice5': None,\n",
      " 'sellQuantity1': None,\n",
      " 'sellQuantity2': None,\n",
      " 'sellQuantity3': None,\n",
      " 'sellQuantity4': None,\n",
      " 'sellQuantity5': None,\n",
      " 'series': 'EQ',\n",
      " 'surv_indicator': None,\n",
      " 'symbol': 'TATAMOTORS',\n",
      " 'totalBuyQuantity': 3.0,\n",
      " 'totalSellQuantity': None,\n",
      " 'totalTradedValue': 60505.12,\n",
      " 'totalTradedVolume': 55488921.0,\n",
      " 'varMargin': 27.46}\n"
     ]
    }
   ],
   "source": [
    "pprint(tata_motors)"
   ]
  },
  {
   "cell_type": "code",
   "execution_count": 22,
   "metadata": {},
   "outputs": [],
   "source": [
    "Idea = yf.Ticker(\"IDEA\")"
   ]
  },
  {
   "cell_type": "code",
   "execution_count": 23,
   "metadata": {
    "scrolled": false
   },
   "outputs": [
    {
     "ename": "IndexError",
     "evalue": "list index out of range",
     "output_type": "error",
     "traceback": [
      "\u001b[1;31m---------------------------------------------------------------------------\u001b[0m",
      "\u001b[1;31mIndexError\u001b[0m                                Traceback (most recent call last)",
      "\u001b[1;32m<ipython-input-23-a3410c0f2b4e>\u001b[0m in \u001b[0;36m<module>\u001b[1;34m\u001b[0m\n\u001b[1;32m----> 1\u001b[1;33m \u001b[0mpprint\u001b[0m\u001b[1;33m(\u001b[0m\u001b[0mIdea\u001b[0m\u001b[1;33m.\u001b[0m\u001b[0minfo\u001b[0m\u001b[1;33m)\u001b[0m\u001b[1;33m\u001b[0m\u001b[1;33m\u001b[0m\u001b[0m\n\u001b[0m",
      "\u001b[1;32m~\\Anaconda3\\lib\\site-packages\\yfinance\\ticker.py\u001b[0m in \u001b[0;36minfo\u001b[1;34m(self)\u001b[0m\n\u001b[0;32m    136\u001b[0m     \u001b[1;33m@\u001b[0m\u001b[0mproperty\u001b[0m\u001b[1;33m\u001b[0m\u001b[1;33m\u001b[0m\u001b[0m\n\u001b[0;32m    137\u001b[0m     \u001b[1;32mdef\u001b[0m \u001b[0minfo\u001b[0m\u001b[1;33m(\u001b[0m\u001b[0mself\u001b[0m\u001b[1;33m)\u001b[0m\u001b[1;33m:\u001b[0m\u001b[1;33m\u001b[0m\u001b[1;33m\u001b[0m\u001b[0m\n\u001b[1;32m--> 138\u001b[1;33m         \u001b[1;32mreturn\u001b[0m \u001b[0mself\u001b[0m\u001b[1;33m.\u001b[0m\u001b[0mget_info\u001b[0m\u001b[1;33m(\u001b[0m\u001b[1;33m)\u001b[0m\u001b[1;33m\u001b[0m\u001b[1;33m\u001b[0m\u001b[0m\n\u001b[0m\u001b[0;32m    139\u001b[0m \u001b[1;33m\u001b[0m\u001b[0m\n\u001b[0;32m    140\u001b[0m     \u001b[1;33m@\u001b[0m\u001b[0mproperty\u001b[0m\u001b[1;33m\u001b[0m\u001b[1;33m\u001b[0m\u001b[0m\n",
      "\u001b[1;32m~\\Anaconda3\\lib\\site-packages\\yfinance\\base.py\u001b[0m in \u001b[0;36mget_info\u001b[1;34m(self, proxy, as_dict, *args, **kwargs)\u001b[0m\n\u001b[0;32m    413\u001b[0m \u001b[1;33m\u001b[0m\u001b[0m\n\u001b[0;32m    414\u001b[0m     \u001b[1;32mdef\u001b[0m \u001b[0mget_info\u001b[0m\u001b[1;33m(\u001b[0m\u001b[0mself\u001b[0m\u001b[1;33m,\u001b[0m \u001b[0mproxy\u001b[0m\u001b[1;33m=\u001b[0m\u001b[1;32mNone\u001b[0m\u001b[1;33m,\u001b[0m \u001b[0mas_dict\u001b[0m\u001b[1;33m=\u001b[0m\u001b[1;32mFalse\u001b[0m\u001b[1;33m,\u001b[0m \u001b[1;33m*\u001b[0m\u001b[0margs\u001b[0m\u001b[1;33m,\u001b[0m \u001b[1;33m**\u001b[0m\u001b[0mkwargs\u001b[0m\u001b[1;33m)\u001b[0m\u001b[1;33m:\u001b[0m\u001b[1;33m\u001b[0m\u001b[1;33m\u001b[0m\u001b[0m\n\u001b[1;32m--> 415\u001b[1;33m         \u001b[0mself\u001b[0m\u001b[1;33m.\u001b[0m\u001b[0m_get_fundamentals\u001b[0m\u001b[1;33m(\u001b[0m\u001b[0mproxy\u001b[0m\u001b[1;33m)\u001b[0m\u001b[1;33m\u001b[0m\u001b[1;33m\u001b[0m\u001b[0m\n\u001b[0m\u001b[0;32m    416\u001b[0m         \u001b[0mdata\u001b[0m \u001b[1;33m=\u001b[0m \u001b[0mself\u001b[0m\u001b[1;33m.\u001b[0m\u001b[0m_info\u001b[0m\u001b[1;33m\u001b[0m\u001b[1;33m\u001b[0m\u001b[0m\n\u001b[0;32m    417\u001b[0m         \u001b[1;32mif\u001b[0m \u001b[0mas_dict\u001b[0m\u001b[1;33m:\u001b[0m\u001b[1;33m\u001b[0m\u001b[1;33m\u001b[0m\u001b[0m\n",
      "\u001b[1;32m~\\Anaconda3\\lib\\site-packages\\yfinance\\base.py\u001b[0m in \u001b[0;36m_get_fundamentals\u001b[1;34m(self, kind, proxy)\u001b[0m\n\u001b[0;32m    284\u001b[0m         \u001b[0mholders\u001b[0m \u001b[1;33m=\u001b[0m \u001b[0m_pd\u001b[0m\u001b[1;33m.\u001b[0m\u001b[0mread_html\u001b[0m\u001b[1;33m(\u001b[0m\u001b[0murl\u001b[0m\u001b[1;33m)\u001b[0m\u001b[1;33m\u001b[0m\u001b[1;33m\u001b[0m\u001b[0m\n\u001b[0;32m    285\u001b[0m         \u001b[0mself\u001b[0m\u001b[1;33m.\u001b[0m\u001b[0m_major_holders\u001b[0m \u001b[1;33m=\u001b[0m \u001b[0mholders\u001b[0m\u001b[1;33m[\u001b[0m\u001b[1;36m0\u001b[0m\u001b[1;33m]\u001b[0m\u001b[1;33m\u001b[0m\u001b[1;33m\u001b[0m\u001b[0m\n\u001b[1;32m--> 286\u001b[1;33m         \u001b[0mself\u001b[0m\u001b[1;33m.\u001b[0m\u001b[0m_institutional_holders\u001b[0m \u001b[1;33m=\u001b[0m \u001b[0mholders\u001b[0m\u001b[1;33m[\u001b[0m\u001b[1;36m1\u001b[0m\u001b[1;33m]\u001b[0m\u001b[1;33m\u001b[0m\u001b[1;33m\u001b[0m\u001b[0m\n\u001b[0m\u001b[0;32m    287\u001b[0m         \u001b[1;32mif\u001b[0m \u001b[1;34m'Date Reported'\u001b[0m \u001b[1;32min\u001b[0m \u001b[0mself\u001b[0m\u001b[1;33m.\u001b[0m\u001b[0m_institutional_holders\u001b[0m\u001b[1;33m:\u001b[0m\u001b[1;33m\u001b[0m\u001b[1;33m\u001b[0m\u001b[0m\n\u001b[0;32m    288\u001b[0m             self._institutional_holders['Date Reported'] = _pd.to_datetime(\n",
      "\u001b[1;31mIndexError\u001b[0m: list index out of range"
     ]
    }
   ],
   "source": [
    "pprint(Idea.info)"
   ]
  }
 ],
 "metadata": {
  "kernelspec": {
   "display_name": "Python 3",
   "language": "python",
   "name": "python3"
  },
  "language_info": {
   "codemirror_mode": {
    "name": "ipython",
    "version": 3
   },
   "file_extension": ".py",
   "mimetype": "text/x-python",
   "name": "python",
   "nbconvert_exporter": "python",
   "pygments_lexer": "ipython3",
   "version": "3.7.4"
  }
 },
 "nbformat": 4,
 "nbformat_minor": 2
}
